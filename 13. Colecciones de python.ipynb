{
 "cells": [
  {
   "cell_type": "markdown",
   "metadata": {},
   "source": [
    "# 13. Colecciones de Python"
   ]
  },
  {
   "cell_type": "markdown",
   "metadata": {},
   "source": [
    "Anteriormente revisamos las estructuras básicas de python: ```list, dict, set, tuple```. En este notebook veremos las siguientes: ```counter```, ```deque```, ```ordered dictionary```, ```default dictionary``` and ```named tuple```."
   ]
  },
  {
   "cell_type": "markdown",
   "metadata": {},
   "source": [
    "## Counter \n",
    "\n",
    "Es un contenedor que sirve para guardar la frecuencia de valores determinados."
   ]
  },
  {
   "cell_type": "code",
   "execution_count": 6,
   "metadata": {},
   "outputs": [
    {
     "name": "stdout",
     "output_type": "stream",
     "text": [
      "Counter({'a': 5, 'c': 4, 'b': 3})\n"
     ]
    }
   ],
   "source": [
    "from collections import Counter \n",
    "\n",
    "lista = ['a', 'b', 'c', 'a', 'a', 'a', 'a', 'b', 'b', 'c', 'c', 'c']\n",
    "c = Counter(lista)\n",
    "print(c)\n"
   ]
  },
  {
   "cell_type": "code",
   "execution_count": 13,
   "metadata": {},
   "outputs": [
    {
     "name": "stdout",
     "output_type": "stream",
     "text": [
      "Counter({' ': 4, 'e': 4, 'o': 3, 'h': 2, 'r': 2, 'y': 1, 'u': 1, 'a': 1, 'v': 1, 'n': 1, 'p': 1, 'w': 1})\n"
     ]
    }
   ],
   "source": [
    "from collections import Counter \n",
    "\n",
    "cad = 'you have no power here'\n",
    "c = Counter(cad)\n",
    "print(c)"
   ]
  },
  {
   "cell_type": "markdown",
   "metadata": {},
   "source": [
    "Es posible actualizar los valores de un Counter con update:"
   ]
  },
  {
   "cell_type": "code",
   "execution_count": 14,
   "metadata": {},
   "outputs": [
    {
     "name": "stdout",
     "output_type": "stream",
     "text": [
      "Counter({' ': 8, 'e': 8, 'o': 6, 'h': 4, 'r': 4, 'y': 2, 'u': 2, 'a': 2, 'v': 2, 'n': 2, 'p': 2, 'w': 2})\n"
     ]
    }
   ],
   "source": [
    "cad2 = 'you have no power here'\n",
    "c.update(cad2)\n",
    "print(c)"
   ]
  },
  {
   "cell_type": "markdown",
   "metadata": {},
   "source": [
    "## Ejercicio:\n",
    "\n",
    "¿Cuántas veces aparece cada nombre de una lista dada?\n"
   ]
  },
  {
   "cell_type": "code",
   "execution_count": 18,
   "metadata": {},
   "outputs": [
    {
     "name": "stdout",
     "output_type": "stream",
     "text": [
      "Counter({'David': 3, 'John': 3, 'Paul': 3, 'Mark': 3, 'James': 3, 'Andrew': 3, 'Scott': 3, 'Steven': 3, 'Robert': 1, 'Stephen': 1})\n"
     ]
    }
   ],
   "source": [
    "from collections import Counter\n",
    "\n",
    "lista = ['David','John','Paul','Mark','James','Andrew','Scott','Steven','Robert','Stephen','David','John','Paul','Mark','David','John','Paul','Mark','James','Andrew','Scott','Steven','James','Andrew','Scott','Steven']\n",
    "\n",
    "c = Counter(lista)\n",
    "print(c)"
   ]
  },
  {
   "cell_type": "markdown",
   "metadata": {},
   "source": [
    "Para obtener los primeros n valores más populares se puede utilizar ```most_common(n)```"
   ]
  },
  {
   "cell_type": "code",
   "execution_count": 20,
   "metadata": {},
   "outputs": [
    {
     "data": {
      "text/plain": [
       "[('David', 3), ('John', 3), ('Paul', 3)]"
      ]
     },
     "execution_count": 20,
     "metadata": {},
     "output_type": "execute_result"
    }
   ],
   "source": [
    "c.most_common(3)"
   ]
  },
  {
   "cell_type": "markdown",
   "metadata": {},
   "source": [
    "Es posible sumar, restar, intersectar y unir contadores. La operación estará definida en términos de conjuntos:"
   ]
  },
  {
   "cell_type": "code",
   "execution_count": 23,
   "metadata": {},
   "outputs": [
    {
     "name": "stdout",
     "output_type": "stream",
     "text": [
      "Counter({'James': 4, 'David': 2, 'Scott': 1})\n",
      "Counter({'Scott': 3, 'David': 2, 'Anna': 1})\n"
     ]
    }
   ],
   "source": [
    "from collections import Counter\n",
    "\n",
    "lista1 = ['David', 'James', 'James', 'James', 'James', 'David', 'Scott']\n",
    "lista2 = ['David', 'Scott', 'David', 'Scott', 'Scott', 'Anna']\n",
    "\n",
    "c = Counter(lista1)\n",
    "c2 = Counter(lista2)\n",
    "\n",
    "print(c)\n",
    "print(c2)\n"
   ]
  },
  {
   "cell_type": "code",
   "execution_count": 26,
   "metadata": {},
   "outputs": [
    {
     "name": "stdout",
     "output_type": "stream",
     "text": [
      "sum = Counter({'James': 4})\n"
     ]
    }
   ],
   "source": [
    "s = c-c2\n",
    "print('sum = ' + str(s))"
   ]
  },
  {
   "cell_type": "code",
   "execution_count": 27,
   "metadata": {},
   "outputs": [
    {
     "name": "stdout",
     "output_type": "stream",
     "text": [
      "sum = Counter({'David': 4, 'James': 4, 'Scott': 4, 'Anna': 1})\n"
     ]
    }
   ],
   "source": [
    "s = c+c2\n",
    "print('sum = ' + str(s))"
   ]
  },
  {
   "cell_type": "code",
   "execution_count": 29,
   "metadata": {},
   "outputs": [
    {
     "name": "stdout",
     "output_type": "stream",
     "text": [
      "Union = Counter({'James': 4, 'Scott': 3, 'David': 2, 'Anna': 1})\n"
     ]
    }
   ],
   "source": [
    "s = c | c2\n",
    "print('Union = ' + str(s))"
   ]
  },
  {
   "cell_type": "code",
   "execution_count": 31,
   "metadata": {},
   "outputs": [
    {
     "name": "stdout",
     "output_type": "stream",
     "text": [
      "Intersection = Counter({'David': 2, 'Scott': 1})\n"
     ]
    }
   ],
   "source": [
    "s = c2 & c\n",
    "print('Intersection = ' + str(s))"
   ]
  },
  {
   "cell_type": "markdown",
   "metadata": {},
   "source": [
    "## Deque\n",
    "\n",
    "Es una bicola. Puede visualizarse como un tubo abierto en ambos sentidos. \n",
    "\n",
    "Permite agregar o eliminar elementos en cada uno de los dos extremos. "
   ]
  },
  {
   "cell_type": "code",
   "execution_count": 49,
   "metadata": {},
   "outputs": [
    {
     "name": "stdout",
     "output_type": "stream",
     "text": [
      "deque([2000, 1000, 20, 10, 1, 2, 3, 4])\n"
     ]
    }
   ],
   "source": [
    "from collections import deque\n",
    "\n",
    "deck = deque()\n",
    "deck.append(1)\n",
    "deck.append(2)\n",
    "deck.extend([3, 4])\n",
    "deck.appendleft(10)\n",
    "deck.appendleft(20)\n",
    "deck.extendleft([1000, 2000])\n",
    "\n",
    "print(deck)"
   ]
  },
  {
   "cell_type": "markdown",
   "metadata": {},
   "source": [
    "Para eliminar se utiliza ```pop()``` o ```popleft()```:\n"
   ]
  },
  {
   "cell_type": "code",
   "execution_count": 50,
   "metadata": {},
   "outputs": [
    {
     "name": "stdout",
     "output_type": "stream",
     "text": [
      "deque([2000, 1000, 20, 10, 1, 2, 3, 4])\n",
      "deque([2000, 1000, 20, 10, 1, 2, 3])\n",
      "deque([2000, 1000, 20, 10, 1, 2])\n"
     ]
    }
   ],
   "source": [
    "print(deck)\n",
    "deck.pop()\n",
    "print(deck)\n",
    "deck.pop()\n",
    "print(deck)"
   ]
  },
  {
   "cell_type": "code",
   "execution_count": 51,
   "metadata": {},
   "outputs": [
    {
     "name": "stdout",
     "output_type": "stream",
     "text": [
      "deque([2000, 1000, 20, 10, 1, 2])\n",
      "deque([1000, 20, 10, 1, 2])\n",
      "deque([20, 10, 1, 2])\n"
     ]
    }
   ],
   "source": [
    "print(deck)\n",
    "deck.popleft()\n",
    "print(deck)\n",
    "deck.popleft()\n",
    "print(deck)"
   ]
  },
  {
   "cell_type": "markdown",
   "metadata": {},
   "source": [
    "Es posible rotar un deque en cada extremo utilizando el método ```rotate(n)```. \n",
    "\n",
    "- Si n es positivo, se rotará de izquierda a derecha\n",
    "- Si n es negativo, se rotará de derecha a izquierda"
   ]
  },
  {
   "cell_type": "code",
   "execution_count": 57,
   "metadata": {},
   "outputs": [
    {
     "name": "stdout",
     "output_type": "stream",
     "text": [
      "deque([0, 1, 2, 3, 4, 5])\n",
      "rotación a la derecha:deque([4, 5, 0, 1, 2, 3])\n",
      "rotación a la izquierda:deque([0, 1, 2, 3, 4, 5])\n"
     ]
    }
   ],
   "source": [
    "from collections import deque\n",
    "\n",
    "deck = deque(range(6))\n",
    "print(deck)\n",
    "deck.rotate(2)\n",
    "print(\"rotación a la derecha:\" + str(deck))\n",
    "deck.rotate(-2)\n",
    "print(\"rotación a la izquierda:\" + str(deck))"
   ]
  },
  {
   "cell_type": "markdown",
   "metadata": {},
   "source": [
    "## Diccionarios ordenados\n",
    "\n",
    "La clase ```OrderedDict``` es una subclase de la clase ```dict``` y recuerda el orden en el que se añadieron los elementos:\n"
   ]
  },
  {
   "cell_type": "code",
   "execution_count": 68,
   "metadata": {},
   "outputs": [
    {
     "name": "stdout",
     "output_type": "stream",
     "text": [
      "Regular Dictionary\n",
      "a : SAS\n",
      "b : PYTHON\n",
      "z : LUA\n",
      "d : C++\n",
      "\n",
      " Ordered dictionary\n",
      "a : SAS\n",
      "b : PYTHON\n",
      "z : LUA\n",
      "d : C++\n"
     ]
    }
   ],
   "source": [
    "from collections import OrderedDict\n",
    "\n",
    "print('Regular Dictionary')\n",
    "d = {}\n",
    "d['a']= 'SAS'\n",
    "d['b']= 'PYTHON'\n",
    "d['z']= 'R'\n",
    "d['d']= 'C++'\n",
    "d['c']= 'LUA'\n",
    "\n",
    "\n",
    "for k,v in d.items():\n",
    "    print (k, \":\",v)\n",
    "\n",
    "print ('\\n Ordered dictionary')\n",
    "\n",
    "d1 = OrderedDict()\n",
    "d1['a']= 'SAS'\n",
    "d1['b']= 'PYTHON'\n",
    "d1['c']= 'R'\n",
    "d1['d']= 'C++'\n",
    "d1['c']= 'LUA'\n",
    "\n",
    "for k,v in d1.items():\n",
    "    print (k, \":\",v)"
   ]
  },
  {
   "cell_type": "markdown",
   "metadata": {},
   "source": [
    "Es posible almacenar los datos de forma ordenada así:\n"
   ]
  },
  {
   "cell_type": "code",
   "execution_count": 72,
   "metadata": {},
   "outputs": [
    {
     "name": "stdout",
     "output_type": "stream",
     "text": [
      "OrderedDict([('a', 'SAS'), ('b', 'PYTHON'), ('d', 'C++'), ('z', 'LUA')])\n"
     ]
    }
   ],
   "source": [
    "dict2 = OrderedDict(sorted(d1.items()))\n",
    "print(dict2)"
   ]
  },
  {
   "cell_type": "markdown",
   "metadata": {},
   "source": [
    "Para ordenar los por valor se puede usar una expresión lambda:"
   ]
  },
  {
   "cell_type": "code",
   "execution_count": 79,
   "metadata": {},
   "outputs": [
    {
     "name": "stdout",
     "output_type": "stream",
     "text": [
      "OrderedDict([('d', 'C++'), ('z', 'LUA'), ('b', 'PYTHON'), ('a', 'SAS')])\n"
     ]
    }
   ],
   "source": [
    "dict3 = OrderedDict(sorted(d1.items(), key = lambda i:i[1]))\n",
    "print(dict3)"
   ]
  },
  {
   "cell_type": "markdown",
   "metadata": {},
   "source": [
    "Una función lambda es una pequeña función anónima. Puede tomar cualquier número de argumentos pero puede únicamente tener una expresión."
   ]
  },
  {
   "cell_type": "code",
   "execution_count": 80,
   "metadata": {},
   "outputs": [
    {
     "name": "stdout",
     "output_type": "stream",
     "text": [
      "15\n"
     ]
    }
   ],
   "source": [
    "x = lambda a : a + 10\n",
    "print(x(5))"
   ]
  },
  {
   "cell_type": "code",
   "execution_count": 81,
   "metadata": {},
   "outputs": [
    {
     "name": "stdout",
     "output_type": "stream",
     "text": [
      "30\n"
     ]
    }
   ],
   "source": [
    "x = lambda a, b : a * b\n",
    "print(x(5, 6))"
   ]
  },
  {
   "cell_type": "markdown",
   "metadata": {},
   "source": [
    "Una aplicación a parte de las mostradas anteriormente puede ser para llamar código dentro de una función:"
   ]
  },
  {
   "cell_type": "code",
   "execution_count": 82,
   "metadata": {},
   "outputs": [
    {
     "name": "stdout",
     "output_type": "stream",
     "text": [
      "22\n"
     ]
    }
   ],
   "source": [
    "def myfunc(n):\n",
    "  return lambda a : a * n\n",
    "\n",
    "mydoubler = myfunc(2)\n",
    "\n",
    "print(mydoubler(11))"
   ]
  },
  {
   "cell_type": "markdown",
   "metadata": {},
   "source": [
    "## Default Dictionary\n",
    "\n",
    "Permite crear un diccionario con valores por defecto de la siguiente forma:"
   ]
  },
  {
   "cell_type": "code",
   "execution_count": 86,
   "metadata": {},
   "outputs": [
    {
     "name": "stdout",
     "output_type": "stream",
     "text": [
      "defaultdict(<function get_default at 0x00000160DE3CEEA0>, {'A': 'Natación', 'B': 'Levantamiento de Pesas'})\n",
      "Natación\n",
      "Levantamiento de Pesas\n",
      "Futbol\n"
     ]
    }
   ],
   "source": [
    "from collections import defaultdict\n",
    "\n",
    "def get_default():\n",
    "        return \"Fútbol\"\n",
    "    \n",
    "game = defaultdict(get_default)\n",
    "game[\"A\"]= \"Natación\"\n",
    "game[\"B\"] = \"Levantamiento de Pesas\"\n",
    "\n",
    "print (str(game))\n",
    "print (game[\"A\"])\n",
    "print (game[\"B\"])\n",
    "print (game[\"C\"])"
   ]
  },
  {
   "cell_type": "markdown",
   "metadata": {},
   "source": [
    "Con una función lambda quedaría así:"
   ]
  },
  {
   "cell_type": "code",
   "execution_count": 88,
   "metadata": {},
   "outputs": [
    {
     "name": "stdout",
     "output_type": "stream",
     "text": [
      "defaultdict(<function <lambda> at 0x00000160DE40C048>, {'A': 'Natación', 'B': 'Levantamiento de Pesas'})\n",
      "Natación\n",
      "Levantamiento de Pesas\n",
      "Fútbol\n"
     ]
    }
   ],
   "source": [
    "from collections import defaultdict\n",
    "    \n",
    "game = defaultdict(lambda:\"Fútbol\")\n",
    "game[\"A\"]= \"Natación\"\n",
    "game[\"B\"] = \"Levantamiento de Pesas\"\n",
    "\n",
    "print (str(game))\n",
    "print (game[\"A\"])\n",
    "print (game[\"B\"])\n",
    "print (game[\"C\"])"
   ]
  },
  {
   "cell_type": "markdown",
   "metadata": {},
   "source": [
    "Con el valor por defecto de un tipo de dato:"
   ]
  },
  {
   "cell_type": "code",
   "execution_count": 96,
   "metadata": {},
   "outputs": [
    {
     "name": "stdout",
     "output_type": "stream",
     "text": [
      "defaultdict(<class 'int'>, {'A': 'Natación', 'B': 'Levantamiento de Pesas'})\n",
      "Natación\n",
      "Levantamiento de Pesas\n",
      "0\n",
      "defaultdict(<class 'int'>, {'A': 'Natación', 'B': 'Levantamiento de Pesas', 'C': 0})\n"
     ]
    }
   ],
   "source": [
    "from collections import defaultdict\n",
    "    \n",
    "game = defaultdict(int)\n",
    "game[\"A\"]= \"Natación\"\n",
    "game[\"B\"] = \"Levantamiento de Pesas\"\n",
    "\n",
    "print (str(game))\n",
    "print (game[\"A\"])\n",
    "print (game[\"B\"])\n",
    "print (game[\"C\"])\n",
    "print (str(game))"
   ]
  },
  {
   "cell_type": "markdown",
   "metadata": {},
   "source": [
    "Esto puede ser aplicado para contar los elementos de una lista:"
   ]
  },
  {
   "cell_type": "code",
   "execution_count": 93,
   "metadata": {},
   "outputs": [
    {
     "name": "stdout",
     "output_type": "stream",
     "text": [
      "defaultdict(<class 'int'>, {'cricket': 1, 'badminton': 1, 'hockeyrugby': 1, 'golf': 1, 'baseball': 1, 'football': 1})\n"
     ]
    }
   ],
   "source": [
    "from collections import defaultdict\n",
    "\n",
    "game = defaultdict(int)\n",
    "\n",
    "list1 = ['cricket', 'badminton', 'hockey' 'rugby', 'golf', 'baseball' ,\n",
    "'football']\n",
    "\n",
    "for each in list1:\n",
    "    game[each]= game[each]+1\n",
    "print(game)"
   ]
  },
  {
   "cell_type": "markdown",
   "metadata": {},
   "source": [
    "O para inicializar capitales como una lista a partir de una tupla de paises y capitales:"
   ]
  },
  {
   "cell_type": "code",
   "execution_count": 95,
   "metadata": {},
   "outputs": [
    {
     "name": "stdout",
     "output_type": "stream",
     "text": [
      "[]\n",
      "defaultdict(<class 'list'>, {'any_value': [], 'US': ['Visconsin'], 'Germany': ['Bavaria'], 'UK': ['Bradfordshire'], 'India': ['punjab'], 'China': ['Shandong'], 'Canada': ['Nova Scotia']})\n"
     ]
    }
   ],
   "source": [
    "from collections import defaultdict\n",
    "game = defaultdict(list)\n",
    "\n",
    "tuple_list_county = [('US', 'Visconsin'), ('Germany', 'Bavaria'), ('UK','Bradfordshire'), \n",
    "                     ('India', 'punjab'), ('China', 'Shandong'), ('Canada','Nova Scotia')]\n",
    "\n",
    "print (game[\"any_value\"])\n",
    "\n",
    "for k,v in tuple_list_county:\n",
    "    game[k].append(v)\n",
    "\n",
    "print(game)"
   ]
  },
  {
   "cell_type": "markdown",
   "metadata": {},
   "source": [
    "## Tupla nombrada:\n",
    "\n",
    "Se pueden asignar nombres a partes de una tupla así:\n",
    "    \n",
    "```namedtuple(typename, field_names[, verbose=False][,rename=False])```\n",
    "\n",
    "Donde:\n",
    "\n",
    "- ```typename``` define el nombre del nuevo tipo de dato.\n",
    "- ```field_names``` Pueden ser una secuencia de strings tales como ['x', 'y'] ó un string de palabras separadas en blanco.\n",
    "- con rename en falso los valores inválidos se reemplazan con posiciones 'def, emp, edad' es cambiado a '_0, age, empid' porque def es una palabra reservada.\n"
   ]
  },
  {
   "cell_type": "code",
   "execution_count": 106,
   "metadata": {},
   "outputs": [
    {
     "name": "stdout",
     "output_type": "stream",
     "text": [
      "Record is  empl(nombre='Perez', edad=28, codigo=12365)\n",
      "nombre:  Perez\n",
      "edad:  28\n",
      "código  12365\n",
      "type is  <class '__main__.empl'>\n"
     ]
    }
   ],
   "source": [
    "import collections\n",
    "\n",
    "empleado = collections.namedtuple('empl','nombre, edad, codigo')\n",
    "registro = empleado(\"Perez\", 28, 12365 )\n",
    "\n",
    "print (\"Record is \", registro)\n",
    "print (\"nombre: \", registro.nombre)\n",
    "print (\"edad: \", registro.edad)\n",
    "print (\"código \", registro.codigo)\n",
    "print (\"type is \", type(record1))"
   ]
  },
  {
   "cell_type": "markdown",
   "metadata": {},
   "source": [
    "Se puede combinar con las demás estructuras de datos:"
   ]
  },
  {
   "cell_type": "code",
   "execution_count": 108,
   "metadata": {},
   "outputs": [
    {
     "name": "stdout",
     "output_type": "stream",
     "text": [
      "empl(nombre='BOB', edad=21, codigo=34567)\n",
      "n\n",
      "OrderedDict([('nombre', 'BOB'), ('edad', 21), ('codigo', 34567)])\n"
     ]
    }
   ],
   "source": [
    "import collections\n",
    "\n",
    "empleado = collections.namedtuple('empl','nombre, edad, codigo')\n",
    "ldatos = ['BOB', 21, 34567\n",
    "         ]\n",
    "record2 =empleado._make(ldatos)\n",
    "\n",
    "print(record2)\n",
    "print(\"n\")\n",
    "print(record2._asdict())"
   ]
  },
  {
   "cell_type": "markdown",
   "metadata": {},
   "source": [
    "Como los valores de una tupla son inmutables las tuplas nombradas son inmutables. Se puede utilizar ```_replace``` para cambiar el valor de una tupla nombrada."
   ]
  },
  {
   "cell_type": "code",
   "execution_count": 116,
   "metadata": {},
   "outputs": [
    {
     "name": "stdout",
     "output_type": "stream",
     "text": [
      "empl(nombre='Marina', edad=28, codigo=12365)\n",
      "empl(nombre='Marina', edad=22, codigo=12365)\n",
      "empl(nombre='Marina', edad=25, codigo=12365)\n"
     ]
    }
   ],
   "source": [
    "import collections\n",
    "\n",
    "empleado = collections.namedtuple('empl','nombre, edad, codigo')\n",
    "record1 = empleado(\"Marina\", 28, 12365 )\n",
    "\n",
    "print (record1)\n",
    "record1 = record1._replace(edad = 22)\n",
    "print (record1)\n",
    "record1 = record1._replace(edad= 25)\n",
    "print (record1)"
   ]
  },
  {
   "cell_type": "markdown",
   "metadata": {},
   "source": [
    "# Referencias\n",
    "\n",
    "https://www.w3schools.com/python/python_lambda.asp\n",
    "\n",
    "Das, B. N. (2017). Learn Python in 7 Days. Packt Publishing Ltd."
   ]
  },
  {
   "cell_type": "code",
   "execution_count": null,
   "metadata": {},
   "outputs": [],
   "source": []
  }
 ],
 "metadata": {
  "kernelspec": {
   "display_name": "Python 3",
   "language": "python",
   "name": "python3"
  },
  "language_info": {
   "codemirror_mode": {
    "name": "ipython",
    "version": 3
   },
   "file_extension": ".py",
   "mimetype": "text/x-python",
   "name": "python",
   "nbconvert_exporter": "python",
   "pygments_lexer": "ipython3",
   "version": "3.7.3"
  }
 },
 "nbformat": 4,
 "nbformat_minor": 2
}
